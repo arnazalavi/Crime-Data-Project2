{
 "cells": [
  {
   "cell_type": "code",
   "execution_count": 15,
   "metadata": {},
   "outputs": [
    {
     "name": "stdout",
     "output_type": "stream",
     "text": [
      "Requirement already satisfied: requests in c:\\users\\arnaz\\anaconda3\\lib\\site-packages (2.24.0)\n",
      "Requirement already satisfied: urllib3!=1.25.0,!=1.25.1,<1.26,>=1.21.1 in c:\\users\\arnaz\\anaconda3\\lib\\site-packages (from requests) (1.25.11)\n",
      "Requirement already satisfied: chardet<4,>=3.0.2 in c:\\users\\arnaz\\anaconda3\\lib\\site-packages (from requests) (3.0.4)\n",
      "Requirement already satisfied: certifi>=2017.4.17 in c:\\users\\arnaz\\anaconda3\\lib\\site-packages (from requests) (2020.6.20)\n",
      "Requirement already satisfied: idna<3,>=2.5 in c:\\users\\arnaz\\anaconda3\\lib\\site-packages (from requests) (2.10)\n"
     ]
    }
   ],
   "source": [
    "\n",
    "#DEpendencies\n",
    "! pip install requests\n",
    "import pandas as pd\n",
    "import numpy as np\n",
    "import json\n",
    "import os\n",
    "import requests \n",
    "import pymongo"
   ]
  },
  {
   "cell_type": "code",
   "execution_count": 14,
   "metadata": {},
   "outputs": [],
   "source": [
    "#Specify the URL\n",
    "#url = \"https://data.cityofchicago.org/resource/ijzp-q8t2.json?$where=year > 2017\"\n",
    "#geojson_url = \"https://data.cityofchicago.org/resource/ijzp-q8t2.geojson?$where=year > 2015\"\n",
    "\n",
    "api_fromat = \"json\"\n",
    "limit = 5000\n",
    "year=2021\n",
    "count = 50000\n",
    "start= 0\n",
    "results =[]"
   ]
  },
  {
   "cell_type": "code",
   "execution_count": 10,
   "metadata": {},
   "outputs": [],
   "source": [
    "\n",
    "#url =\"https://data.cityofchicago.org/resource/ijzp-q8t2.geojson?$limit=50000&$offset=0&$order=id&$where=year > 2017\"\n",
    "url =\"https://data.cityofchicago.org/resource/ijzp-q8t2.geojson?$limit=50000&$offset=0&$order=id&$where=year > 2017\""
   ]
  },
  {
   "cell_type": "code",
   "execution_count": 17,
   "metadata": {},
   "outputs": [
    {
     "data": {
      "text/plain": [
       "<Response [200]>"
      ]
     },
     "execution_count": 17,
     "metadata": {},
     "output_type": "execute_result"
    }
   ],
   "source": [
    "crime_response = requests.get(url)\n",
    "#response_geojson = requests.get(geojson_url)\n",
    "crime_response\n",
    "# Print status code\n",
    "#print(crime_response .status_code)\n",
    "#x = requests.get('https://w3schools.com')"
   ]
  },
  {
   "cell_type": "code",
   "execution_count": 19,
   "metadata": {},
   "outputs": [],
   "source": [
    "# JSON-ify response\n",
    "response_json = crime_response.json()\n",
    "response = response_json[\"features\"]"
   ]
  },
  {
   "cell_type": "code",
   "execution_count": 20,
   "metadata": {},
   "outputs": [
    {
     "name": "stdout",
     "output_type": "stream",
     "text": [
      "The first response is {\n",
      "  \"type\": \"Feature\",\n",
      "  \"geometry\": {\n",
      "    \"type\": \"Point\",\n",
      "    \"coordinates\": [\n",
      "      -87.726681812,\n",
      "      41.944561251\n",
      "    ]\n",
      "  },\n",
      "  \"properties\": {\n",
      "    \"location_state\": \"\",\n",
      "    \"location_zip\": \"\",\n",
      "    \"x_coordinate\": \"1149289\",\n",
      "    \"domestic\": false,\n",
      "    \"latitude\": \"41.944561251\",\n",
      "    \"updated_on\": \"2019-03-18T16:08:09.000\",\n",
      "    \"description\": \"FIRST DEGREE MURDER\",\n",
      "    \"location_address\": \"\",\n",
      "    \"arrest\": false,\n",
      "    \"location_city\": \"\",\n",
      "    \"year\": \"2018\",\n",
      "    \"longitude\": \"-87.726681812\",\n",
      "    \"block\": \"039XX W CORNELIA AVE\",\n",
      "    \"fbi_code\": \"01A\",\n",
      "    \"ward\": \"30\",\n",
      "    \"id\": \"23757\",\n",
      "    \"date\": \"2018-01-01T02:46:00.000\",\n",
      "    \"beat\": \"1732\",\n",
      "    \"y_coordinate\": \"1922972\",\n",
      "    \"community_area\": \"21\",\n",
      "    \"location_description\": \"AUTO\",\n",
      "    \"district\": \"017\",\n",
      "    \"iucr\": \"0110\",\n",
      "    \"case_number\": \"JB100159\",\n",
      "    \"primary_type\": \"HOMICIDE\"\n",
      "  }\n",
      "}.\n"
     ]
    }
   ],
   "source": [
    "# Print first crime\n",
    "print(f\"The first response is {json.dumps(response[0], indent=2)}.\")"
   ]
  },
  {
   "cell_type": "code",
   "execution_count": 21,
   "metadata": {},
   "outputs": [
    {
     "name": "stdout",
     "output_type": "stream",
     "text": [
      "We received 50000 responses.\n"
     ]
    }
   ],
   "source": [
    "\n",
    "print(f\"We received {len(response)} responses.\")"
   ]
  },
  {
   "cell_type": "code",
   "execution_count": 25,
   "metadata": {},
   "outputs": [],
   "source": [
    "\n",
    "conn = 'mongodb://localhost:27017'\n",
    "client = pymongo.MongoClient(conn)\n",
    "\n",
    "# Define the 'classDB' database in Mongo\n",
    "db = client.chicago_crime"
   ]
  },
  {
   "cell_type": "code",
   "execution_count": 26,
   "metadata": {},
   "outputs": [],
   "source": [
    "collection = db.events"
   ]
  },
  {
   "cell_type": "code",
   "execution_count": null,
   "metadata": {},
   "outputs": [],
   "source": [
    "# query the classroom collection in flask application\n",
    "#classroom = db.classroom.find()\n",
    "#crime = collection.find()"
   ]
  }
 ],
 "metadata": {
  "kernelspec": {
   "display_name": "Python 3",
   "language": "python",
   "name": "python3"
  },
  "language_info": {
   "codemirror_mode": {
    "name": "ipython",
    "version": 3
   },
   "file_extension": ".py",
   "mimetype": "text/x-python",
   "name": "python",
   "nbconvert_exporter": "python",
   "pygments_lexer": "ipython3",
   "version": "3.8.5"
  }
 },
 "nbformat": 4,
 "nbformat_minor": 4
}
